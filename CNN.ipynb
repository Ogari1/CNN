{
  "nbformat": 4,
  "nbformat_minor": 0,
  "metadata": {
    "colab": {
      "provenance": [],
      "authorship_tag": "ABX9TyPyt82T6E06QTCjebqO7kyn",
      "include_colab_link": true
    },
    "kernelspec": {
      "name": "python3",
      "display_name": "Python 3"
    },
    "language_info": {
      "name": "python"
    }
  },
  "cells": [
    {
      "cell_type": "markdown",
      "metadata": {
        "id": "view-in-github",
        "colab_type": "text"
      },
      "source": [
        "<a href=\"https://colab.research.google.com/github/Ogari1/CNN/blob/main/CNN.ipynb\" target=\"_parent\"><img src=\"https://colab.research.google.com/assets/colab-badge.svg\" alt=\"Open In Colab\"/></a>"
      ]
    },
    {
      "cell_type": "code",
      "execution_count": null,
      "metadata": {
        "colab": {
          "base_uri": "https://localhost:8080/"
        },
        "id": "Ss5R4WwCIDNW",
        "outputId": "e7777f09-17e0-4f4e-a20b-917a5074730c"
      },
      "outputs": [
        {
          "output_type": "stream",
          "name": "stdout",
          "text": [
            "Mounted at /content/drive\n"
          ]
        }
      ],
      "source": [
        "# Mount Google Drive in your Colab notebook\n",
        "from google.colab import drive\n",
        "drive.mount('/content/drive')\n"
      ]
    },
    {
      "cell_type": "code",
      "source": [
        "import os\n",
        "import numpy as np\n",
        "import pandas as pd\n",
        "from keras.preprocessing.image import ImageDataGenerator\n",
        "\n",
        "# Load the dataset\n",
        "data = pd.read_csv(\"/content/drive/MyDrive/cats_vs_dogs/sampleSubmission.csv\")\n",
        "\n",
        "#Preprocess the data\n",
        "##Split the dataset into training, validation, and testing sets\n",
        "\n",
        "###Define the base directory where your dataset is located\n",
        "base_dir = '/content/drive/My Drive/cats_vs_dogs'\n",
        "\n",
        "import os\n",
        "from tensorflow.keras.preprocessing.image import ImageDataGenerator\n",
        "\n",
        "# Define the names of the subdirectories for training, validation, and testing\n",
        "train_dir = os.path.join(base_dir, 'train')\n",
        "validation_dir = os.path.join(base_dir, 'validation')\n",
        "os.makedirs(validation_dir, exist_ok=True)\n",
        "test_dir = os.path.join(base_dir, 'test1')\n",
        "\n",
        "# Create ImageDataGenerators for training, validation, and test sets\n",
        "# Create ImageDataGenerators for training, validation, and test sets\n",
        "train_datagen = ImageDataGenerator(rescale=1./255, rotation_range=40, width_shift_range=0.2, height_shift_range=0.2, shear_range=0.2, zoom_range=0.2, horizontal_flip=True, fill_mode='nearest')\n",
        "validation_datagen = ImageDataGenerator(rescale=1./255)\n",
        "test_datagen = ImageDataGenerator(rescale=1./255)\n",
        "\n",
        "train_generator = train_datagen.flow_from_directory(train_dir, target_size=(128, 128), batch_size=20, class_mode='binary')\n",
        "validation_generator = validation_datagen.flow_from_directory(validation_dir, target_size=(128, 128), batch_size=20, class_mode='binary')\n",
        "test_generator = test_datagen.flow_from_directory(test_dir, target_size=(128, 128), batch_size=20, class_mode='binary')\n",
        "\n"
      ],
      "metadata": {
        "colab": {
          "base_uri": "https://localhost:8080/"
        },
        "id": "8VvzotsfLBjm",
        "outputId": "a0e9b245-ab91-4c08-922f-c2f885691ad1"
      },
      "execution_count": null,
      "outputs": [
        {
          "output_type": "stream",
          "name": "stdout",
          "text": [
            "Found 2841 images belonging to 1 classes.\n",
            "Found 0 images belonging to 0 classes.\n",
            "Found 1190 images belonging to 1 classes.\n"
          ]
        }
      ]
    },
    {
      "cell_type": "code",
      "source": [
        "#Define the CNN architecture\n",
        "\n",
        "from keras.models import Sequential\n",
        "from keras.layers import Conv2D, MaxPooling2D, Dense, Flatten, Dropout\n",
        "\n",
        "model = Sequential()\n",
        "\n",
        "model.add(Conv2D(32, (3, 3), activation='relu', input_shape=(128, 128, 3)))\n",
        "model.add(MaxPooling2D((2, 2)))\n",
        "\n",
        "model.add(Conv2D(64, (3, 3), activation='relu'))\n",
        "model.add(MaxPooling2D((2, 2)))\n",
        "\n",
        "model.add(Conv2D(128, (3, 3), activation='relu'))\n",
        "model.add(MaxPooling2D((2, 2)))\n",
        "\n",
        "model.add(Conv2D(128, (3, 3), activation='relu'))\n",
        "model.add(MaxPooling2D((2, 2)))\n",
        "\n",
        "model.add(Flatten())\n",
        "model.add(Dropout(0.5))\n",
        "model.add(Dense(512, activation='relu'))\n",
        "model.add(Dense(1, activation='sigmoid'))"
      ],
      "metadata": {
        "id": "VbNCe7Dtxpu2"
      },
      "execution_count": null,
      "outputs": []
    },
    {
      "cell_type": "code",
      "source": [
        "#Compile the model\n",
        "\n",
        "from keras.optimizers import Adam\n",
        "\n",
        "model.compile(optimizer=Adam(learning_rate=0.001), loss='binary_crossentropy', metrics=['accuracy'])"
      ],
      "metadata": {
        "id": "8CMQ78nkDLYb"
      },
      "execution_count": null,
      "outputs": []
    },
    {
      "cell_type": "code",
      "source": [
        "#Train the model\n",
        "\n",
        "history = model.fit(train_generator, steps_per_epoch=100, epochs=30, validation_data=validation_generator, validation_steps=50)\n"
      ],
      "metadata": {
        "colab": {
          "base_uri": "https://localhost:8080/"
        },
        "id": "tVNTiGFqECSq",
        "outputId": "6dfa4620-8638-4762-fb3b-4c9aa0e21c5b"
      },
      "execution_count": 14,
      "outputs": [
        {
          "output_type": "stream",
          "name": "stdout",
          "text": [
            "Epoch 1/30\n",
            "100/100 [==============================] - 97s 966ms/step - loss: 0.0000e+00 - accuracy: 1.0000\n",
            "Epoch 2/30\n",
            "100/100 [==============================] - 84s 840ms/step - loss: 0.0000e+00 - accuracy: 1.0000\n",
            "Epoch 3/30\n",
            "100/100 [==============================] - 86s 858ms/step - loss: 0.0000e+00 - accuracy: 1.0000\n",
            "Epoch 4/30\n",
            "100/100 [==============================] - 86s 857ms/step - loss: 0.0000e+00 - accuracy: 1.0000\n",
            "Epoch 5/30\n",
            "100/100 [==============================] - 84s 837ms/step - loss: 0.0000e+00 - accuracy: 1.0000\n",
            "Epoch 6/30\n",
            "100/100 [==============================] - 86s 859ms/step - loss: 0.0000e+00 - accuracy: 1.0000\n",
            "Epoch 7/30\n",
            "100/100 [==============================] - 86s 856ms/step - loss: 0.0000e+00 - accuracy: 1.0000\n",
            "Epoch 8/30\n",
            "100/100 [==============================] - 86s 856ms/step - loss: 0.0000e+00 - accuracy: 1.0000\n",
            "Epoch 9/30\n",
            "100/100 [==============================] - 84s 836ms/step - loss: 0.0000e+00 - accuracy: 1.0000\n",
            "Epoch 10/30\n",
            "100/100 [==============================] - 85s 850ms/step - loss: 0.0000e+00 - accuracy: 1.0000\n",
            "Epoch 11/30\n",
            "100/100 [==============================] - 84s 836ms/step - loss: 0.0000e+00 - accuracy: 1.0000\n",
            "Epoch 12/30\n",
            "100/100 [==============================] - 85s 845ms/step - loss: 0.0000e+00 - accuracy: 1.0000\n",
            "Epoch 13/30\n",
            "100/100 [==============================] - 82s 811ms/step - loss: 0.0000e+00 - accuracy: 1.0000\n",
            "Epoch 14/30\n",
            "100/100 [==============================] - 82s 817ms/step - loss: 0.0000e+00 - accuracy: 1.0000\n",
            "Epoch 15/30\n",
            "100/100 [==============================] - 82s 814ms/step - loss: 0.0000e+00 - accuracy: 1.0000\n",
            "Epoch 16/30\n",
            "100/100 [==============================] - 82s 815ms/step - loss: 0.0000e+00 - accuracy: 1.0000\n",
            "Epoch 17/30\n",
            "100/100 [==============================] - 81s 813ms/step - loss: 0.0000e+00 - accuracy: 1.0000\n",
            "Epoch 18/30\n",
            "100/100 [==============================] - 81s 800ms/step - loss: 0.0000e+00 - accuracy: 1.0000\n",
            "Epoch 19/30\n",
            "100/100 [==============================] - 82s 817ms/step - loss: 0.0000e+00 - accuracy: 1.0000\n",
            "Epoch 20/30\n",
            "100/100 [==============================] - 83s 828ms/step - loss: 0.0000e+00 - accuracy: 1.0000\n",
            "Epoch 21/30\n",
            "100/100 [==============================] - 82s 819ms/step - loss: 0.0000e+00 - accuracy: 1.0000\n",
            "Epoch 22/30\n",
            "100/100 [==============================] - 82s 814ms/step - loss: 0.0000e+00 - accuracy: 1.0000\n",
            "Epoch 23/30\n",
            "100/100 [==============================] - 81s 803ms/step - loss: 0.0000e+00 - accuracy: 1.0000\n",
            "Epoch 24/30\n",
            "100/100 [==============================] - 83s 821ms/step - loss: 0.0000e+00 - accuracy: 1.0000\n",
            "Epoch 25/30\n",
            "100/100 [==============================] - 83s 830ms/step - loss: 0.0000e+00 - accuracy: 1.0000\n",
            "Epoch 26/30\n",
            "100/100 [==============================] - 82s 814ms/step - loss: 0.0000e+00 - accuracy: 1.0000\n",
            "Epoch 27/30\n",
            "100/100 [==============================] - 80s 794ms/step - loss: 0.0000e+00 - accuracy: 1.0000\n",
            "Epoch 28/30\n",
            "100/100 [==============================] - 81s 799ms/step - loss: 0.0000e+00 - accuracy: 1.0000\n",
            "Epoch 29/30\n",
            "100/100 [==============================] - 80s 802ms/step - loss: 0.0000e+00 - accuracy: 1.0000\n",
            "Epoch 30/30\n",
            "100/100 [==============================] - 82s 817ms/step - loss: 0.0000e+00 - accuracy: 1.0000\n"
          ]
        }
      ]
    },
    {
      "cell_type": "code",
      "source": [
        "#Evaluate the model\n",
        "\n",
        "test_loss, test_acc = model.evaluate(test_generator, steps=50)\n",
        "print('Test accuracy:', test_acc)"
      ],
      "metadata": {
        "colab": {
          "base_uri": "https://localhost:8080/"
        },
        "id": "ipvR9CUZESkm",
        "outputId": "28aae8ae-daaa-4617-9158-640f4cf19e73"
      },
      "execution_count": 15,
      "outputs": [
        {
          "output_type": "stream",
          "name": "stdout",
          "text": [
            "50/50 [==============================] - 230s 5s/step - loss: 0.0000e+00 - accuracy: 1.0000\n",
            "Test accuracy: 1.0\n"
          ]
        }
      ]
    }
  ]
}